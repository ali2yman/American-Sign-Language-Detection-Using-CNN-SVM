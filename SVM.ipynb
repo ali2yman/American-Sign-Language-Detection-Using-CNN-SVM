{
 "cells": [
  {
   "cell_type": "code",
   "execution_count": 1,
   "metadata": {},
   "outputs": [
    {
     "name": "stdout",
     "output_type": "stream",
     "text": [
      "WARNING:tensorflow:From c:\\Users\\aliay\\OneDrive\\Desktop\\yolo7-jackDetectionTask\\lib\\site-packages\\keras\\src\\losses.py:2976: The name tf.losses.sparse_softmax_cross_entropy is deprecated. Please use tf.compat.v1.losses.sparse_softmax_cross_entropy instead.\n",
      "\n"
     ]
    }
   ],
   "source": [
    "import tensorflow.keras as keras\n",
    "import pandas as pd\n",
    "import numpy as np"
   ]
  },
  {
   "cell_type": "code",
   "execution_count": 2,
   "metadata": {},
   "outputs": [],
   "source": [
    "# Load in our data from CSV files\n",
    "train_df = pd.read_csv(r\"C:\\Users\\aliay\\OneDrive\\Desktop\\DeepLearningProjetct\\sign_mnist_train.csv\")\n",
    "valid_df = pd.read_csv(r\"C:\\Users\\aliay\\OneDrive\\Desktop\\DeepLearningProjetct\\sign_mnist_test.csv\")"
   ]
  },
  {
   "cell_type": "code",
   "execution_count": 3,
   "metadata": {},
   "outputs": [],
   "source": [
    "# Separate out our target values\n",
    "y_train = train_df['label']\n",
    "y_valid = valid_df['label']\n",
    "del train_df['label']\n",
    "del valid_df['label']\n",
    "\n",
    "# Separate our our image vectors\n",
    "x_train = train_df.values\n",
    "x_valid = valid_df.values\n",
    "\n",
    "# Turn our scalar targets into binary categories\n",
    "num_classes = 25\n",
    "y_train = keras.utils.to_categorical(y_train, num_classes)\n",
    "y_valid = keras.utils.to_categorical(y_valid, num_classes)\n",
    "\n",
    "# Normalize our image data\n",
    "x_train = x_train / 255\n",
    "x_valid = x_valid / 255\n"
   ]
  },
  {
   "cell_type": "code",
   "execution_count": 4,
   "metadata": {},
   "outputs": [],
   "source": [
    "# Reshape the image data for the SVM\n",
    "x_train = x_train.reshape(x_train.shape[0], -1)  # Flatten each image\n",
    "x_valid = x_valid.reshape(x_valid.shape[0], -1)"
   ]
  },
  {
   "cell_type": "code",
   "execution_count": 12,
   "metadata": {},
   "outputs": [
    {
     "name": "stdout",
     "output_type": "stream",
     "text": [
      "Validation Accuracy: 78.61%\n"
     ]
    }
   ],
   "source": [
    "# %pip install scikit-learn\n",
    "# %pip install joblib\n",
    "from sklearn.svm import SVC\n",
    "from sklearn.metrics import accuracy_score\n",
    "import joblib\n",
    "# Initialize and train the SVM\n",
    "svm = SVC(kernel='linear', C=1.0, random_state=42)\n",
    "svm.fit(x_train, np.argmax(y_train, axis=1))  # Convert one-hot encoded labels back to integer labels\n",
    "\n",
    "# Save the trained SVM model to a file\n",
    "joblib.dump(svm, 'svm_model.pkl')\n",
    "\n",
    "\n",
    "# Predict on validation data and evaluate\n",
    "predictions_valid = svm.predict(x_valid)\n",
    "accuracy = accuracy_score(np.argmax(y_valid, axis=1), predictions_valid)  # Convert one-hot encoded labels back to integer labels\n",
    "print(f\"Validation Accuracy: {accuracy * 100:.2f}%\")\n"
   ]
  },
  {
   "cell_type": "code",
   "execution_count": 13,
   "metadata": {},
   "outputs": [],
   "source": [
    "from PIL import Image\n",
    "import numpy as np\n",
    "\n",
    "# Load and preprocess the image\n",
    "image_path = r\"C:\\Users\\aliay\\OneDrive\\Desktop\\DeepLearningProjetct\\OIP.jpeg\"\n",
    "image = Image.open(image_path).convert(\"L\")  # Convert to grayscale\n",
    "image = image.resize((28, 28))  # Resize to the same size as training images\n",
    "\n",
    "# Convert to numpy array and flatten\n",
    "image_array = np.array(image)\n",
    "image_vector = image_array.flatten()"
   ]
  },
  {
   "cell_type": "code",
   "execution_count": 14,
   "metadata": {},
   "outputs": [
    {
     "name": "stdout",
     "output_type": "stream",
     "text": [
      "The predicted class label is: 5\n"
     ]
    }
   ],
   "source": [
    "svm = joblib.load(r\"C:\\Users\\aliay\\OneDrive\\Desktop\\DeepLearningProjetct\\svm_model.pkl\")\n",
    "\n",
    "# Assuming svm_classifier is your trained SVM model\n",
    "prediction = svm.predict([image_vector])\n",
    "\n",
    "print(f\"The predicted class label is: {prediction[0]}\")"
   ]
  },
  {
   "cell_type": "code",
   "execution_count": null,
   "metadata": {},
   "outputs": [],
   "source": []
  }
 ],
 "metadata": {
  "kernelspec": {
   "display_name": "yolo7-jackDetectionTask",
   "language": "python",
   "name": "python3"
  },
  "language_info": {
   "codemirror_mode": {
    "name": "ipython",
    "version": 3
   },
   "file_extension": ".py",
   "mimetype": "text/x-python",
   "name": "python",
   "nbconvert_exporter": "python",
   "pygments_lexer": "ipython3",
   "version": "3.9.13"
  }
 },
 "nbformat": 4,
 "nbformat_minor": 2
}
